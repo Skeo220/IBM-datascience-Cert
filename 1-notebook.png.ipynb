{
  "metadata": {
    "language_info": {
      "codemirror_mode": {
        "name": "python",
        "version": 3
      },
      "file_extension": ".py",
      "mimetype": "text/x-python",
      "name": "python",
      "nbconvert_exporter": "python",
      "pygments_lexer": "ipython3",
      "version": "3.8"
    },
    "kernelspec": {
      "name": "python",
      "display_name": "Python (Pyodide)",
      "language": "python"
    }
  },
  "nbformat_minor": 4,
  "nbformat": 4,
  "cells": [
    {
      "cell_type": "markdown",
      "source": "Excercise 2 - Peer-graded Assignment",
      "metadata": {}
    },
    {
      "cell_type": "markdown",
      "source": "Excercise 3 -This is the markdown cell for the introduction of this notebook.",
      "metadata": {}
    },
    {
      "cell_type": "markdown",
      "source": "Excercise 4 - Data science language include R and Python for processing, manipulating and analyzing data; and github for version control. ",
      "metadata": {}
    },
    {
      "cell_type": "markdown",
      "source": "Excercise 5 - R libraries include ggplot2, tidyr, caret, and python libraries include scipy, numpy, sickit learn, and pandas",
      "metadata": {}
    },
    {
      "cell_type": "markdown",
      "source": "Excercise 6 -Tools for data science include programming languages like SQL, R, or Python; IDEs such as jupyter notebooks, Rstudio, or VS code; different libraries such as ggplot2, and Pandas; and models such as regression, classification and other machine learning models. ",
      "metadata": {}
    },
    {
      "cell_type": "markdown",
      "source": "Excercise 7 - 8+8",
      "metadata": {}
    },
    {
      "cell_type": "code",
      "source": "# Exercise 8\n8+8*2",
      "metadata": {
        "trusted": true
      },
      "execution_count": 3,
      "outputs": [
        {
          "execution_count": 3,
          "output_type": "execute_result",
          "data": {
            "text/plain": "24"
          },
          "metadata": {}
        }
      ]
    },
    {
      "cell_type": "code",
      "source": "# Excercise 9 \nhours = 1\nminutes = hours *60\nprint(f\"{hours} hour(s) is equal to {minutes} minute(s).\")",
      "metadata": {
        "trusted": true
      },
      "execution_count": 4,
      "outputs": [
        {
          "name": "stdout",
          "text": "1 hour(s) is equal to 60 minute(s).\n",
          "output_type": "stream"
        }
      ]
    },
    {
      "cell_type": "markdown",
      "source": "Excercise 10 - Objectives:\n- Understand R \n- Understand Python\n- Understand Github\n- Use RStudio\n- Use Jupypter Notebook\n- Use Github",
      "metadata": {}
    },
    {
      "cell_type": "markdown",
      "source": "Exercise 11\nStépahne Keo",
      "metadata": {}
    }
  ]
}